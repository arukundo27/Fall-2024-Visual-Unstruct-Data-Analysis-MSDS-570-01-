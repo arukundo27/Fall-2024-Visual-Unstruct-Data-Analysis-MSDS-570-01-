{
 "cells": [
  {
   "cell_type": "markdown",
   "metadata": {
    "id": "iiABJM0dvDkS"
   },
   "source": [
    "**1.\tData Visualization Project Problem**\n",
    "\n",
    "This project addresses the need for an interactive visualization tool to analyze and interpret air quality trends in the state of Texas, focusing on key pollutants—PM2.5 (Finite Particulate Matter), O3 (Ozone), and NO2 (Nitrogen dioxide). The project will provide insights into pollution patterns over time and across locations, helping to identify seasonal or geographic hotspots and trends.\n",
    "\n",
    "**2.\tProject Introduction and Motivation**\n",
    "\n",
    "Understanding air quality is essential for public health, particularly in urban areas where pollution levels change based on industrial activity, weather, and traffic. By visualizing historical air quality data for the state of Texas, this project aims to reveal pollution patterns and support decisions that can mitigate harmful health impacts. These insights benefit policymakers, health professionals, and the public by raising awareness and helping to create cleaner, healthier environments.\n",
    "\n",
    "**3.\tProject Goals and Expected Outcomes**\n",
    "\n",
    "*•\tGoals:* Develop visualization tool that allows users to explore Texas air quality data by pollutant, location, and time.\n",
    "\n",
    "*•\tExpected Outcomes:* Visualizations that highlight pollution trends across cities and pollutants over a selected period, identifying pollution spikes, seasonal changes, and comparisons between urban areas. This tool will support informed decision-making and public awareness regarding air quality concerns.\n",
    "\n",
    "**4.\tDataset Used and Description**\n",
    "\n",
    "*•\tSource:* U.S. Environmental Protection Agency (EPA) Air Quality System (AQS) Data Mart.\n",
    "\n",
    "*•\tDescription:* The dataset includes daily records for PM2.5, O3, and NO2 levels across the state of Texas. Each record details at least the date, city/location, pollutant concentration, AQI value, and geographic information. Separate files for each pollutant and year will be combined to enable comprehensive trend analysis and visualization.\n",
    "\n",
    "\n",
    "\n",
    "Datasets: https://www.epa.gov/outdoor-air-quality-data/download-daily-data\n",
    "\n",
    "Information: https://www.epa.gov/outdoor-air-quality-data/air-data-basic-information"
   ]
  },
  {
   "cell_type": "markdown",
   "metadata": {
    "id": "a2VPk3bNEOfG"
   },
   "source": [
    "**PM2.5 (Fine Particulate Matter)**\n",
    "\n",
    "Due to its small size and ability to penetrate deeply into the lungs and bloodstream, PM2.5 is the most concerning for public health. It’s linked to respiratory and cardiovascular diseases and has widespread sources in urban areas, including vehicles and industrial emissions.\n",
    "\n",
    "**Ozone (O3)**\n",
    "\n",
    "Ozone, especially ground-level ozone, forms as a secondary pollutant from reactions between VOCs and NOx in sunlight. It aggravates asthma and respiratory conditions and is a key component of smog, affecting urban populations significantly.\n",
    "\n",
    "**Nitrogen Dioxide (NO2)**\n",
    "\n",
    "NO2 is a major contributor to smog and respiratory problems. It’s highly prevalent in cities due to traffic and industrial emissions and poses direct health risks, especially for children and those with pre-existing conditions."
   ]
  },
  {
   "cell_type": "markdown",
   "metadata": {
    "id": "DwJ9ySHEQran"
   },
   "source": [
    "**The AQI (Air Quality Index) Explanation**\n",
    "\n",
    "AirData uses the Air Quality Index (AQI) in some of its reports and tables and to display data using the visualization tools. The AQI is an index for reporting daily air quality. It tells how clean or polluted the air is, and what associated health effects might be a concern, especially for ground-level ozone and particle pollution.\n",
    "\n",
    "Think of the AQI as a yardstick that runs from 0 to 500. The higher the AQI value, the greater the level of air pollution and the greater the health concern. For example, an AQI value of 50 represents good air quality with little potential to affect public health, while an AQI value over 300 represents hazardous air quality.\n",
    "\n",
    "An AQI value of 100 generally corresponds to the national air quality standard for the pollutant, which is the level EPA has set to protect public health. AQI values below 100 are generally thought of as satisfactory. When AQI values are above 100, air quality is considered to be unhealthy-at first for certain sensitive groups of people, then for everyone as AQI values get higher."
   ]
  },
  {
   "cell_type": "markdown",
   "metadata": {
    "id": "fbH1iXkwQyb6"
   },
   "source": [
    "Each category corresponds to a different level of health concern. The six levels of health concern and what they mean are:\n",
    "\n",
    "**\"Good\" AQI is 0 - 50.** Air quality is considered satisfactory, and air pollution poses little or no risk.\n",
    "\n",
    "**\"Moderate\" AQI is 51 - 100.** Air quality is acceptable; however, for some pollutants there may be a moderate health concern for a very small number of people. For example, people who are unusually sensitive to ozone may experience respiratory symptoms.\n",
    "\n",
    "**\"Unhealthy for Sensitive Groups\" AQI is 101 - 150.** Although general public is not likely to be affected at this AQI range, people with lung disease, older adults and children are at a greater risk from exposure to ozone, whereas persons with heart and lung disease, older adults and children are at greater risk from the presence of particles in the air.\n",
    "\n",
    "**\"Unhealthy\" AQI is 151 - 200.** Everyone may begin to experience some adverse health effects, and members of the sensitive groups may experience more serious effects.\n",
    "\n",
    "**\"Very Unhealthy\" AQI is 201 - 300.** This would trigger a health alert signifying that everyone may experience more serious health effects.\n",
    "\n",
    "**\"Hazardous\" AQI greater than 300.** This would trigger health warnings of emergency conditions. The entire population is more likely to be affected."
   ]
  },
  {
   "cell_type": "code",
   "execution_count": 1,
   "metadata": {
    "colab": {
     "base_uri": "https://localhost:8080/",
     "height": 206
    },
    "id": "kJWQKZ5ULDD6",
    "outputId": "80f4c124-a9a0-49aa-fff0-93b7f5c90091"
   },
   "outputs": [
    {
     "data": {
      "text/html": [
       "<div>\n",
       "<style scoped>\n",
       "    .dataframe tbody tr th:only-of-type {\n",
       "        vertical-align: middle;\n",
       "    }\n",
       "\n",
       "    .dataframe tbody tr th {\n",
       "        vertical-align: top;\n",
       "    }\n",
       "\n",
       "    .dataframe thead th {\n",
       "        text-align: right;\n",
       "    }\n",
       "</style>\n",
       "<table border=\"1\" class=\"dataframe\">\n",
       "  <thead>\n",
       "    <tr style=\"text-align: right;\">\n",
       "      <th></th>\n",
       "      <th>Date</th>\n",
       "      <th>AQS Parameter Description</th>\n",
       "      <th>State</th>\n",
       "      <th>Daily AQI Value</th>\n",
       "      <th>County</th>\n",
       "      <th>Site Latitude</th>\n",
       "      <th>Site Longitude</th>\n",
       "    </tr>\n",
       "  </thead>\n",
       "  <tbody>\n",
       "    <tr>\n",
       "      <th>0</th>\n",
       "      <td>1/1/2019</td>\n",
       "      <td>O3</td>\n",
       "      <td>Texas</td>\n",
       "      <td>30.0</td>\n",
       "      <td>Brazoria</td>\n",
       "      <td>29.043759</td>\n",
       "      <td>-95.472946</td>\n",
       "    </tr>\n",
       "    <tr>\n",
       "      <th>1</th>\n",
       "      <td>1/1/2019</td>\n",
       "      <td>NO2</td>\n",
       "      <td>Texas</td>\n",
       "      <td>30.0</td>\n",
       "      <td>El Paso</td>\n",
       "      <td>31.765685</td>\n",
       "      <td>-106.455227</td>\n",
       "    </tr>\n",
       "    <tr>\n",
       "      <th>2</th>\n",
       "      <td>1/1/2019</td>\n",
       "      <td>O3</td>\n",
       "      <td>Texas</td>\n",
       "      <td>31.0</td>\n",
       "      <td>Montgomery</td>\n",
       "      <td>30.350302</td>\n",
       "      <td>-95.425128</td>\n",
       "    </tr>\n",
       "    <tr>\n",
       "      <th>3</th>\n",
       "      <td>1/1/2019</td>\n",
       "      <td>O3</td>\n",
       "      <td>Texas</td>\n",
       "      <td>32.0</td>\n",
       "      <td>Cameron</td>\n",
       "      <td>26.200335</td>\n",
       "      <td>-97.712684</td>\n",
       "    </tr>\n",
       "    <tr>\n",
       "      <th>4</th>\n",
       "      <td>1/1/2019</td>\n",
       "      <td>PM2.5</td>\n",
       "      <td>Texas</td>\n",
       "      <td>33.0</td>\n",
       "      <td>Denton</td>\n",
       "      <td>33.219069</td>\n",
       "      <td>-97.196284</td>\n",
       "    </tr>\n",
       "  </tbody>\n",
       "</table>\n",
       "</div>"
      ],
      "text/plain": [
       "       Date AQS Parameter Description  State  Daily AQI Value      County  \\\n",
       "0  1/1/2019                        O3  Texas             30.0    Brazoria   \n",
       "1  1/1/2019                       NO2  Texas             30.0     El Paso   \n",
       "2  1/1/2019                        O3  Texas             31.0  Montgomery   \n",
       "3  1/1/2019                        O3  Texas             32.0     Cameron   \n",
       "4  1/1/2019                     PM2.5  Texas             33.0      Denton   \n",
       "\n",
       "   Site Latitude  Site Longitude  \n",
       "0      29.043759      -95.472946  \n",
       "1      31.765685     -106.455227  \n",
       "2      30.350302      -95.425128  \n",
       "3      26.200335      -97.712684  \n",
       "4      33.219069      -97.196284  "
      ]
     },
     "execution_count": 1,
     "metadata": {},
     "output_type": "execute_result"
    }
   ],
   "source": [
    "# Importing required libraries\n",
    "import pandas as pd\n",
    "import plotly.express as px\n",
    "import plotly.graph_objects as go\n",
    "\n",
    "# Loading the combined CSV file\n",
    "df = pd.read_csv('Texas_Air_Quality_2019_2024.csv')\n",
    "\n",
    "# Displaying basic information and a sample of the data\n",
    "df.head()\n"
   ]
  },
  {
   "cell_type": "code",
   "execution_count": 2,
   "metadata": {
    "colab": {
     "base_uri": "https://localhost:8080/"
    },
    "id": "oXgD5o3YMi82",
    "outputId": "d9003879-0836-499f-ec2f-73dec2e0d3ae"
   },
   "outputs": [
    {
     "name": "stdout",
     "output_type": "stream",
     "text": [
      "<class 'pandas.core.frame.DataFrame'>\n",
      "RangeIndex: 77057 entries, 0 to 77056\n",
      "Data columns (total 7 columns):\n",
      " #   Column                     Non-Null Count  Dtype  \n",
      "---  ------                     --------------  -----  \n",
      " 0   Date                       77057 non-null  object \n",
      " 1   AQS Parameter Description  77057 non-null  object \n",
      " 2   State                      77057 non-null  object \n",
      " 3   Daily AQI Value            77057 non-null  float64\n",
      " 4   County                     77057 non-null  object \n",
      " 5   Site Latitude              77057 non-null  float64\n",
      " 6   Site Longitude             77057 non-null  float64\n",
      "dtypes: float64(3), object(4)\n",
      "memory usage: 4.1+ MB\n"
     ]
    }
   ],
   "source": [
    "df.info()"
   ]
  },
  {
   "cell_type": "code",
   "execution_count": 3,
   "metadata": {
    "colab": {
     "base_uri": "https://localhost:8080/"
    },
    "id": "THs4jJ8cOBxg",
    "outputId": "3fb95b98-732f-476f-de15-09ded759f814"
   },
   "outputs": [
    {
     "name": "stdout",
     "output_type": "stream",
     "text": [
      "<class 'pandas.core.frame.DataFrame'>\n",
      "RangeIndex: 77057 entries, 0 to 77056\n",
      "Data columns (total 7 columns):\n",
      " #   Column                     Non-Null Count  Dtype         \n",
      "---  ------                     --------------  -----         \n",
      " 0   Date                       77057 non-null  datetime64[ns]\n",
      " 1   AQS Parameter Description  77057 non-null  object        \n",
      " 2   State                      77057 non-null  object        \n",
      " 3   Daily AQI Value            77057 non-null  float64       \n",
      " 4   County                     77057 non-null  object        \n",
      " 5   Site Latitude              77057 non-null  float64       \n",
      " 6   Site Longitude             77057 non-null  float64       \n",
      "dtypes: datetime64[ns](1), float64(3), object(3)\n",
      "memory usage: 4.1+ MB\n"
     ]
    }
   ],
   "source": [
    "# Droping all columns with any NaN values\n",
    "df = df.dropna(axis=1, how='any')\n",
    "\n",
    "# Converting 'Date' column to datetime\n",
    "df['Date'] = pd.to_datetime(df['Date'], errors='coerce')\n",
    "\n",
    "# Displaying the result to verify\n",
    "df.info()"
   ]
  },
  {
   "cell_type": "markdown",
   "metadata": {},
   "source": [
    "Summary Statistics"
   ]
  },
  {
   "cell_type": "code",
   "execution_count": 4,
   "metadata": {
    "colab": {
     "base_uri": "https://localhost:8080/",
     "height": 300
    },
    "id": "NtQNO3z_PEVZ",
    "outputId": "cdc2f441-5eab-428f-cd13-8ecf9bb0a449",
    "scrolled": true
   },
   "outputs": [
    {
     "data": {
      "text/html": [
       "<div>\n",
       "<style scoped>\n",
       "    .dataframe tbody tr th:only-of-type {\n",
       "        vertical-align: middle;\n",
       "    }\n",
       "\n",
       "    .dataframe tbody tr th {\n",
       "        vertical-align: top;\n",
       "    }\n",
       "\n",
       "    .dataframe thead th {\n",
       "        text-align: right;\n",
       "    }\n",
       "</style>\n",
       "<table border=\"1\" class=\"dataframe\">\n",
       "  <thead>\n",
       "    <tr style=\"text-align: right;\">\n",
       "      <th></th>\n",
       "      <th>Date</th>\n",
       "      <th>Daily AQI Value</th>\n",
       "      <th>Site Latitude</th>\n",
       "      <th>Site Longitude</th>\n",
       "    </tr>\n",
       "  </thead>\n",
       "  <tbody>\n",
       "    <tr>\n",
       "      <th>count</th>\n",
       "      <td>77057</td>\n",
       "      <td>77057.000000</td>\n",
       "      <td>77057.000000</td>\n",
       "      <td>77057.000000</td>\n",
       "    </tr>\n",
       "    <tr>\n",
       "      <th>mean</th>\n",
       "      <td>2021-12-26 17:44:57.675746560</td>\n",
       "      <td>46.365032</td>\n",
       "      <td>31.024628</td>\n",
       "      <td>-97.672472</td>\n",
       "    </tr>\n",
       "    <tr>\n",
       "      <th>min</th>\n",
       "      <td>2019-01-01 00:00:00</td>\n",
       "      <td>30.000000</td>\n",
       "      <td>26.200335</td>\n",
       "      <td>-106.455227</td>\n",
       "    </tr>\n",
       "    <tr>\n",
       "      <th>25%</th>\n",
       "      <td>2020-07-09 00:00:00</td>\n",
       "      <td>36.000000</td>\n",
       "      <td>29.686389</td>\n",
       "      <td>-97.905931</td>\n",
       "    </tr>\n",
       "    <tr>\n",
       "      <th>50%</th>\n",
       "      <td>2022-01-11 00:00:00</td>\n",
       "      <td>43.000000</td>\n",
       "      <td>31.653086</td>\n",
       "      <td>-97.196284</td>\n",
       "    </tr>\n",
       "    <tr>\n",
       "      <th>75%</th>\n",
       "      <td>2023-06-21 00:00:00</td>\n",
       "      <td>53.000000</td>\n",
       "      <td>32.805810</td>\n",
       "      <td>-96.115572</td>\n",
       "    </tr>\n",
       "    <tr>\n",
       "      <th>max</th>\n",
       "      <td>2024-11-09 00:00:00</td>\n",
       "      <td>263.000000</td>\n",
       "      <td>35.201592</td>\n",
       "      <td>-93.761341</td>\n",
       "    </tr>\n",
       "    <tr>\n",
       "      <th>std</th>\n",
       "      <td>NaN</td>\n",
       "      <td>15.003888</td>\n",
       "      <td>2.197519</td>\n",
       "      <td>2.866801</td>\n",
       "    </tr>\n",
       "  </tbody>\n",
       "</table>\n",
       "</div>"
      ],
      "text/plain": [
       "                                Date  Daily AQI Value  Site Latitude  \\\n",
       "count                          77057     77057.000000   77057.000000   \n",
       "mean   2021-12-26 17:44:57.675746560        46.365032      31.024628   \n",
       "min              2019-01-01 00:00:00        30.000000      26.200335   \n",
       "25%              2020-07-09 00:00:00        36.000000      29.686389   \n",
       "50%              2022-01-11 00:00:00        43.000000      31.653086   \n",
       "75%              2023-06-21 00:00:00        53.000000      32.805810   \n",
       "max              2024-11-09 00:00:00       263.000000      35.201592   \n",
       "std                              NaN        15.003888       2.197519   \n",
       "\n",
       "       Site Longitude  \n",
       "count    77057.000000  \n",
       "mean       -97.672472  \n",
       "min       -106.455227  \n",
       "25%        -97.905931  \n",
       "50%        -97.196284  \n",
       "75%        -96.115572  \n",
       "max        -93.761341  \n",
       "std          2.866801  "
      ]
     },
     "execution_count": 4,
     "metadata": {},
     "output_type": "execute_result"
    }
   ],
   "source": [
    "df.describe()"
   ]
  }
 ],
 "metadata": {
  "colab": {
   "provenance": []
  },
  "kernelspec": {
   "display_name": "Python 3 (ipykernel)",
   "language": "python",
   "name": "python3"
  },
  "language_info": {
   "codemirror_mode": {
    "name": "ipython",
    "version": 3
   },
   "file_extension": ".py",
   "mimetype": "text/x-python",
   "name": "python",
   "nbconvert_exporter": "python",
   "pygments_lexer": "ipython3",
   "version": "3.11.7"
  }
 },
 "nbformat": 4,
 "nbformat_minor": 1
}
